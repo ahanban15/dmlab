{
  "cells": [
    {
      "cell_type": "code",
      "execution_count": null,
      "id": "8cd7fc8c",
      "metadata": {
        "id": "8cd7fc8c"
      },
      "outputs": [],
      "source": [
        "import pandas as pd\n",
        "import numpy as np\n",
        "import matplotlib.pyplot as plt\n",
        "from random import random\n",
        "import statistics"
      ]
    },
    {
      "cell_type": "code",
      "execution_count": null,
      "id": "603fabe3",
      "metadata": {
        "id": "603fabe3"
      },
      "outputs": [],
      "source": [
        "arr = np.array([11, 22, 20, 14, 29, 8, 35, 27, 13, 49, 10, 24, 17])"
      ]
    },
    {
      "cell_type": "code",
      "execution_count": null,
      "id": "b0166f86",
      "metadata": {
        "id": "b0166f86"
      },
      "outputs": [],
      "source": [
        "arr.sort()"
      ]
    },
    {
      "cell_type": "code",
      "execution_count": null,
      "id": "69a68861",
      "metadata": {
        "id": "69a68861",
        "outputId": "80391fc5-df75-45e1-888d-beb82dc1bcd8"
      },
      "outputs": [
        {
          "data": {
            "text/plain": [
              "array([ 8, 10, 11, 13, 14, 17, 20, 22, 24, 27, 29, 35, 49])"
            ]
          },
          "execution_count": 52,
          "metadata": {},
          "output_type": "execute_result"
        }
      ],
      "source": [
        "arr"
      ]
    },
    {
      "cell_type": "code",
      "execution_count": null,
      "id": "48607425",
      "metadata": {
        "id": "48607425"
      },
      "outputs": [],
      "source": [
        "mean = arr.mean()"
      ]
    },
    {
      "cell_type": "code",
      "execution_count": null,
      "id": "91b39d37",
      "metadata": {
        "id": "91b39d37",
        "outputId": "7ce30acb-9c9a-4c7d-b92e-0480d5c5e9d4"
      },
      "outputs": [
        {
          "data": {
            "text/plain": [
              "21.46153846153846"
            ]
          },
          "execution_count": 54,
          "metadata": {},
          "output_type": "execute_result"
        }
      ],
      "source": [
        "mean"
      ]
    },
    {
      "cell_type": "code",
      "execution_count": null,
      "id": "6adf94a0",
      "metadata": {
        "id": "6adf94a0"
      },
      "outputs": [],
      "source": [
        "variance = arr.var()"
      ]
    },
    {
      "cell_type": "code",
      "execution_count": null,
      "id": "008f3d33",
      "metadata": {
        "scrolled": true,
        "id": "008f3d33",
        "outputId": "18306179-342d-4fd8-b114-38f99abece3a"
      },
      "outputs": [
        {
          "data": {
            "text/plain": [
              "123.63313609467455"
            ]
          },
          "execution_count": 56,
          "metadata": {},
          "output_type": "execute_result"
        }
      ],
      "source": [
        "variance"
      ]
    },
    {
      "cell_type": "code",
      "execution_count": null,
      "id": "0b3aad5c",
      "metadata": {
        "id": "0b3aad5c"
      },
      "outputs": [],
      "source": [
        "stand_dev = arr.std()"
      ]
    },
    {
      "cell_type": "code",
      "execution_count": null,
      "id": "5da6bf65",
      "metadata": {
        "id": "5da6bf65",
        "outputId": "04fc55db-c602-4e16-faa3-3ffd51671c3a"
      },
      "outputs": [
        {
          "data": {
            "text/plain": [
              "11.119043848041725"
            ]
          },
          "execution_count": 59,
          "metadata": {},
          "output_type": "execute_result"
        }
      ],
      "source": [
        "stand_dev"
      ]
    },
    {
      "cell_type": "code",
      "execution_count": null,
      "id": "895223ab",
      "metadata": {
        "id": "895223ab"
      },
      "outputs": [],
      "source": [
        "mini = arr.min()\n",
        "maxi = arr.max()"
      ]
    },
    {
      "cell_type": "code",
      "execution_count": null,
      "id": "a7871621",
      "metadata": {
        "id": "a7871621",
        "outputId": "01fbd0a4-7261-4106-80bb-2c64de00b74b"
      },
      "outputs": [
        {
          "data": {
            "text/plain": [
              "8"
            ]
          },
          "execution_count": 26,
          "metadata": {},
          "output_type": "execute_result"
        }
      ],
      "source": [
        "mini"
      ]
    },
    {
      "cell_type": "code",
      "execution_count": null,
      "id": "42a918dd",
      "metadata": {
        "id": "42a918dd",
        "outputId": "c868ba92-fe67-400c-ff0e-bb179cc2f5c8"
      },
      "outputs": [
        {
          "data": {
            "text/plain": [
              "49"
            ]
          },
          "execution_count": 27,
          "metadata": {},
          "output_type": "execute_result"
        }
      ],
      "source": [
        "maxi"
      ]
    },
    {
      "cell_type": "code",
      "execution_count": null,
      "id": "0443ce78",
      "metadata": {
        "id": "0443ce78",
        "outputId": "87b6868b-b700-48d6-8b87-86e778405414"
      },
      "outputs": [
        {
          "data": {
            "text/plain": [
              "20.0"
            ]
          },
          "execution_count": 28,
          "metadata": {},
          "output_type": "execute_result"
        }
      ],
      "source": [
        "median =np.percentile(arr, 50)\n",
        "median"
      ]
    },
    {
      "cell_type": "code",
      "execution_count": null,
      "id": "feaec166",
      "metadata": {
        "id": "feaec166"
      },
      "outputs": [],
      "source": [
        "Q1 = np.percentile(arr, 25)"
      ]
    },
    {
      "cell_type": "code",
      "execution_count": null,
      "id": "36de4006",
      "metadata": {
        "id": "36de4006"
      },
      "outputs": [],
      "source": [
        "Q3 = np.percentile(arr, 75)"
      ]
    },
    {
      "cell_type": "code",
      "execution_count": null,
      "id": "c059639a",
      "metadata": {
        "id": "c059639a",
        "outputId": "a7591167-7c16-413b-a0f5-b06ea16679f8"
      },
      "outputs": [
        {
          "data": {
            "text/plain": [
              "13.0"
            ]
          },
          "execution_count": 31,
          "metadata": {},
          "output_type": "execute_result"
        }
      ],
      "source": [
        "Q1"
      ]
    },
    {
      "cell_type": "code",
      "execution_count": null,
      "id": "bcfb83e6",
      "metadata": {
        "id": "bcfb83e6",
        "outputId": "f5bff2ca-bd51-4df2-bd58-813e55692813"
      },
      "outputs": [
        {
          "data": {
            "text/plain": [
              "27.0"
            ]
          },
          "execution_count": 32,
          "metadata": {},
          "output_type": "execute_result"
        }
      ],
      "source": [
        "Q3"
      ]
    },
    {
      "cell_type": "code",
      "execution_count": null,
      "id": "7486fe21",
      "metadata": {
        "id": "7486fe21"
      },
      "outputs": [],
      "source": [
        "IQR = Q3 -Q1"
      ]
    },
    {
      "cell_type": "code",
      "execution_count": null,
      "id": "e5ac492e",
      "metadata": {
        "id": "e5ac492e",
        "outputId": "08748411-7a04-4ec6-ff93-9a93868da803"
      },
      "outputs": [
        {
          "data": {
            "text/plain": [
              "14.0"
            ]
          },
          "execution_count": 34,
          "metadata": {},
          "output_type": "execute_result"
        }
      ],
      "source": [
        "IQR"
      ]
    },
    {
      "cell_type": "code",
      "execution_count": null,
      "id": "b0981f09",
      "metadata": {
        "id": "b0981f09",
        "outputId": "11d7e947-005a-4740-c57a-f0ef942e0500"
      },
      "outputs": [
        {
          "data": {
            "image/png": "[encoded data removed]",
            "text/plain": [
              "<Figure size 640x480 with 1 Axes>"
            ]
          },
          "metadata": {},
          "output_type": "display_data"
        }
      ],
      "source": [
        "plt.boxplot(arr)\n",
        "plt.show()"
      ]
    },
    {
      "cell_type": "code",
      "execution_count": null,
      "id": "5392881b",
      "metadata": {
        "id": "5392881b"
      },
      "outputs": [],
      "source": [
        "x=np.random.rand(100)\n"
      ]
    },
    {
      "cell_type": "code",
      "execution_count": null,
      "id": "9d51e002",
      "metadata": {
        "id": "9d51e002",
        "outputId": "029358a1-7b48-4256-c58a-97cd2ab57e46"
      },
      "outputs": [
        {
          "data": {
            "text/plain": [
              "array([0.24119459, 0.82075189, 0.78337431, 0.78676223, 0.44309731,\n",
              "       0.56726411, 0.95280521, 0.68713082, 0.84335923, 0.42277773,\n",
              "       0.66151295, 0.85080438, 0.62183359, 0.86142126, 0.19732009,\n",
              "       0.94477835, 0.79019695, 0.74624302, 0.60204539, 0.90765494,\n",
              "       0.93924234, 0.17479321, 0.83487879, 0.35124149, 0.13392644,\n",
              "       0.87288491, 0.36969647, 0.31950538, 0.85494109, 0.05798169,\n",
              "       0.18434091, 0.33978411, 0.06331885, 0.88155318, 0.88038403,\n",
              "       0.93597306, 0.24866868, 0.30027034, 0.69039773, 0.55203217,\n",
              "       0.44280403, 0.7383841 , 0.63501752, 0.89715681, 0.78453861,\n",
              "       0.47122465, 0.1773373 , 0.59991619, 0.16120455, 0.87658014,\n",
              "       0.05670706, 0.06961501, 0.23455708, 0.31165449, 0.07577655,\n",
              "       0.61516881, 0.50438229, 0.60047768, 0.01498754, 0.77660691,\n",
              "       0.80880675, 0.15148564, 0.62019555, 0.03650812, 0.19025447,\n",
              "       0.76588614, 0.47556023, 0.42317105, 0.89676756, 0.92157724,\n",
              "       0.89677252, 0.55976701, 0.96531941, 0.60444749, 0.80529023,\n",
              "       0.1235416 , 0.19606591, 0.73291473, 0.82962924, 0.57323264,\n",
              "       0.97651875, 0.07010904, 0.92135629, 0.29767268, 0.58644908,\n",
              "       0.99658265, 0.41169011, 0.97804768, 0.43560734, 0.15659486,\n",
              "       0.3681193 , 0.02234155, 0.62391012, 0.50832665, 0.75504085,\n",
              "       0.61198948, 0.23959929, 0.48381617, 0.89720076, 0.09095036])"
            ]
          },
          "execution_count": 66,
          "metadata": {},
          "output_type": "execute_result"
        }
      ],
      "source": [
        "x"
      ]
    },
    {
      "cell_type": "code",
      "execution_count": null,
      "id": "3f050ff8",
      "metadata": {
        "id": "3f050ff8"
      },
      "outputs": [],
      "source": [
        "x.sort()"
      ]
    },
    {
      "cell_type": "code",
      "execution_count": null,
      "id": "74d2a29b",
      "metadata": {
        "id": "74d2a29b",
        "outputId": "774c6caf-319c-45d2-d1fa-99badbefeee1"
      },
      "outputs": [
        {
          "data": {
            "text/plain": [
              "array([0.01498754, 0.02234155, 0.03650812, 0.05670706, 0.05798169,\n",
              "       0.06331885, 0.06961501, 0.07010904, 0.07577655, 0.09095036,\n",
              "       0.1235416 , 0.13392644, 0.15148564, 0.15659486, 0.16120455,\n",
              "       0.17479321, 0.1773373 , 0.18434091, 0.19025447, 0.19606591,\n",
              "       0.19732009, 0.23455708, 0.23959929, 0.24119459, 0.24866868,\n",
              "       0.29767268, 0.30027034, 0.31165449, 0.31950538, 0.33978411,\n",
              "       0.35124149, 0.3681193 , 0.36969647, 0.41169011, 0.42277773,\n",
              "       0.42317105, 0.43560734, 0.44280403, 0.44309731, 0.47122465,\n",
              "       0.47556023, 0.48381617, 0.50438229, 0.50832665, 0.55203217,\n",
              "       0.55976701, 0.56726411, 0.57323264, 0.58644908, 0.59991619,\n",
              "       0.60047768, 0.60204539, 0.60444749, 0.61198948, 0.61516881,\n",
              "       0.62019555, 0.62183359, 0.62391012, 0.63501752, 0.66151295,\n",
              "       0.68713082, 0.69039773, 0.73291473, 0.7383841 , 0.74624302,\n",
              "       0.75504085, 0.76588614, 0.77660691, 0.78337431, 0.78453861,\n",
              "       0.78676223, 0.79019695, 0.80529023, 0.80880675, 0.82075189,\n",
              "       0.82962924, 0.83487879, 0.84335923, 0.85080438, 0.85494109,\n",
              "       0.86142126, 0.87288491, 0.87658014, 0.88038403, 0.88155318,\n",
              "       0.89676756, 0.89677252, 0.89715681, 0.89720076, 0.90765494,\n",
              "       0.92135629, 0.92157724, 0.93597306, 0.93924234, 0.94477835,\n",
              "       0.95280521, 0.96531941, 0.97651875, 0.97804768, 0.99658265])"
            ]
          },
          "execution_count": 69,
          "metadata": {},
          "output_type": "execute_result"
        }
      ],
      "source": [
        "x"
      ]
    },
    {
      "cell_type": "code",
      "execution_count": null,
      "id": "e66afc93",
      "metadata": {
        "id": "e66afc93"
      },
      "outputs": [],
      "source": [
        "mean = x.mean()"
      ]
    },
    {
      "cell_type": "code",
      "execution_count": null,
      "id": "214ef15a",
      "metadata": {
        "id": "214ef15a",
        "outputId": "379c338a-4cb7-44cf-a467-aba1ce871b54"
      },
      "outputs": [
        {
          "data": {
            "text/plain": [
              "0.5477135706155214"
            ]
          },
          "execution_count": 73,
          "metadata": {},
          "output_type": "execute_result"
        }
      ],
      "source": [
        "mean"
      ]
    },
    {
      "cell_type": "code",
      "execution_count": null,
      "id": "953c2868",
      "metadata": {
        "id": "953c2868"
      },
      "outputs": [],
      "source": [
        "variance = x.var()"
      ]
    },
    {
      "cell_type": "code",
      "execution_count": null,
      "id": "6ac8f70d",
      "metadata": {
        "id": "6ac8f70d"
      },
      "outputs": [],
      "source": [
        "stand_dev = x.std()"
      ]
    },
    {
      "cell_type": "code",
      "execution_count": null,
      "id": "c8208fde",
      "metadata": {
        "id": "c8208fde",
        "outputId": "2ac6472b-6296-4fdf-8b60-f6d74827b2da"
      },
      "outputs": [
        {
          "data": {
            "text/plain": [
              "0.08901458063709226"
            ]
          },
          "execution_count": 77,
          "metadata": {},
          "output_type": "execute_result"
        }
      ],
      "source": [
        "variance"
      ]
    },
    {
      "cell_type": "code",
      "execution_count": null,
      "id": "6efb8077",
      "metadata": {
        "id": "6efb8077",
        "outputId": "e2419b30-c6cb-4349-9118-91cbb92c09cf"
      },
      "outputs": [
        {
          "data": {
            "text/plain": [
              "0.2983531140060252"
            ]
          },
          "execution_count": 78,
          "metadata": {},
          "output_type": "execute_result"
        }
      ],
      "source": [
        "stand_dev"
      ]
    },
    {
      "cell_type": "code",
      "execution_count": null,
      "id": "392df803",
      "metadata": {
        "id": "392df803"
      },
      "outputs": [],
      "source": [
        "mini = x.min()\n",
        "maxi = x.max()\n",
        "median =np.percentile(x, 50)\n",
        "Q1 = np.percentile(x, 25)\n",
        "Q3 = np.percentile(x, 75)"
      ]
    },
    {
      "cell_type": "code",
      "execution_count": null,
      "id": "c320d0d4",
      "metadata": {
        "id": "c320d0d4",
        "outputId": "0bf6d9e0-7f45-494b-b684-e9836eba6175"
      },
      "outputs": [
        {
          "name": "stdout",
          "output_type": "stream",
          "text": [
            "0.014987543609886522 0.9965826534431388\n"
          ]
        }
      ],
      "source": [
        "print(mini, maxi)"
      ]
    },
    {
      "cell_type": "code",
      "execution_count": null,
      "id": "f3ea7b0d",
      "metadata": {
        "id": "f3ea7b0d",
        "outputId": "285f0565-bbc8-4129-affa-08cb78b238ed"
      },
      "outputs": [
        {
          "name": "stdout",
          "output_type": "stream",
          "text": [
            "0.6001969375906628\n"
          ]
        }
      ],
      "source": [
        "print(median)"
      ]
    },
    {
      "cell_type": "code",
      "execution_count": null,
      "id": "cceb9d97",
      "metadata": {
        "id": "cceb9d97",
        "outputId": "77fd2309-f21f-402e-e9dd-fc2b8885a8b3"
      },
      "outputs": [
        {
          "name": "stdout",
          "output_type": "stream",
          "text": [
            "0.28542167914913347 0.8229712285761759\n"
          ]
        }
      ],
      "source": [
        "print(Q1, Q3)"
      ]
    },
    {
      "cell_type": "code",
      "execution_count": null,
      "id": "1221e299",
      "metadata": {
        "id": "1221e299"
      },
      "outputs": [],
      "source": [
        "IQR = Q3 -Q1"
      ]
    },
    {
      "cell_type": "code",
      "execution_count": null,
      "id": "6bcc64f2",
      "metadata": {
        "id": "6bcc64f2",
        "outputId": "41f70f22-ab48-46c9-9b3a-1ad0e9179bd1"
      },
      "outputs": [
        {
          "data": {
            "image/png": "[encoded data removed]",
            "text/plain": [
              "<Figure size 640x480 with 1 Axes>"
            ]
          },
          "metadata": {},
          "output_type": "display_data"
        }
      ],
      "source": [
        "plt.boxplot(x)\n",
        "plt.show()"
      ]
    },
    {
      "cell_type": "code",
      "execution_count": null,
      "id": "94ee18a0",
      "metadata": {
        "id": "94ee18a0"
      },
      "outputs": [],
      "source": [
        "data = pd.read_csv(\"Titanic.csv\")"
      ]
    },
    {
      "cell_type": "code",
      "execution_count": null,
      "id": "465f09be",
      "metadata": {
        "id": "465f09be",
        "outputId": "6e0f6d0b-597d-4b94-de4d-e8c2eed35f97"
      },
      "outputs": [
        {
          "data": {
            "text/html": [
              "<div>\n",
              "<style scoped>\n",
              "    .dataframe tbody tr th:only-of-type {\n",
              "        vertical-align: middle;\n",
              "    }\n",
              "\n",
              "    .dataframe tbody tr th {\n",
              "        vertical-align: top;\n",
              "    }\n",
              "\n",
              "    .dataframe thead th {\n",
              "        text-align: right;\n",
              "    }\n",
              "</style>\n",
              "<table border=\"1\" class=\"dataframe\">\n",
              "  <thead>\n",
              "    <tr style=\"text-align: right;\">\n",
              "      <th></th>\n",
              "      <th>sex</th>\n",
              "      <th>age</th>\n",
              "      <th>sibsp</th>\n",
              "      <th>parch</th>\n",
              "      <th>fare</th>\n",
              "      <th>embarked</th>\n",
              "      <th>class</th>\n",
              "      <th>who</th>\n",
              "      <th>alone</th>\n",
              "      <th>survived</th>\n",
              "    </tr>\n",
              "  </thead>\n",
              "  <tbody>\n",
              "    <tr>\n",
              "      <th>0</th>\n",
              "      <td>male</td>\n",
              "      <td>22.0</td>\n",
              "      <td>1</td>\n",
              "      <td>0</td>\n",
              "      <td>7.2500</td>\n",
              "      <td>S</td>\n",
              "      <td>Third</td>\n",
              "      <td>man</td>\n",
              "      <td>False</td>\n",
              "      <td>0</td>\n",
              "    </tr>\n",
              "    <tr>\n",
              "      <th>1</th>\n",
              "      <td>female</td>\n",
              "      <td>38.0</td>\n",
              "      <td>1</td>\n",
              "      <td>0</td>\n",
              "      <td>71.2833</td>\n",
              "      <td>C</td>\n",
              "      <td>First</td>\n",
              "      <td>woman</td>\n",
              "      <td>False</td>\n",
              "      <td>1</td>\n",
              "    </tr>\n",
              "    <tr>\n",
              "      <th>2</th>\n",
              "      <td>female</td>\n",
              "      <td>26.0</td>\n",
              "      <td>0</td>\n",
              "      <td>0</td>\n",
              "      <td>7.9250</td>\n",
              "      <td>S</td>\n",
              "      <td>Third</td>\n",
              "      <td>woman</td>\n",
              "      <td>True</td>\n",
              "      <td>1</td>\n",
              "    </tr>\n",
              "    <tr>\n",
              "      <th>3</th>\n",
              "      <td>female</td>\n",
              "      <td>35.0</td>\n",
              "      <td>1</td>\n",
              "      <td>0</td>\n",
              "      <td>53.1000</td>\n",
              "      <td>S</td>\n",
              "      <td>First</td>\n",
              "      <td>woman</td>\n",
              "      <td>False</td>\n",
              "      <td>1</td>\n",
              "    </tr>\n",
              "    <tr>\n",
              "      <th>4</th>\n",
              "      <td>male</td>\n",
              "      <td>35.0</td>\n",
              "      <td>0</td>\n",
              "      <td>0</td>\n",
              "      <td>8.0500</td>\n",
              "      <td>S</td>\n",
              "      <td>Third</td>\n",
              "      <td>man</td>\n",
              "      <td>True</td>\n",
              "      <td>0</td>\n",
              "    </tr>\n",
              "    <tr>\n",
              "      <th>...</th>\n",
              "      <td>...</td>\n",
              "      <td>...</td>\n",
              "      <td>...</td>\n",
              "      <td>...</td>\n",
              "      <td>...</td>\n",
              "      <td>...</td>\n",
              "      <td>...</td>\n",
              "      <td>...</td>\n",
              "      <td>...</td>\n",
              "      <td>...</td>\n",
              "    </tr>\n",
              "    <tr>\n",
              "      <th>886</th>\n",
              "      <td>male</td>\n",
              "      <td>27.0</td>\n",
              "      <td>0</td>\n",
              "      <td>0</td>\n",
              "      <td>13.0000</td>\n",
              "      <td>S</td>\n",
              "      <td>Second</td>\n",
              "      <td>man</td>\n",
              "      <td>True</td>\n",
              "      <td>0</td>\n",
              "    </tr>\n",
              "    <tr>\n",
              "      <th>887</th>\n",
              "      <td>female</td>\n",
              "      <td>19.0</td>\n",
              "      <td>0</td>\n",
              "      <td>0</td>\n",
              "      <td>30.0000</td>\n",
              "      <td>S</td>\n",
              "      <td>First</td>\n",
              "      <td>woman</td>\n",
              "      <td>True</td>\n",
              "      <td>1</td>\n",
              "    </tr>\n",
              "    <tr>\n",
              "      <th>888</th>\n",
              "      <td>female</td>\n",
              "      <td>NaN</td>\n",
              "      <td>1</td>\n",
              "      <td>2</td>\n",
              "      <td>23.4500</td>\n",
              "      <td>S</td>\n",
              "      <td>Third</td>\n",
              "      <td>woman</td>\n",
              "      <td>False</td>\n",
              "      <td>0</td>\n",
              "    </tr>\n",
              "    <tr>\n",
              "      <th>889</th>\n",
              "      <td>male</td>\n",
              "      <td>26.0</td>\n",
              "      <td>0</td>\n",
              "      <td>0</td>\n",
              "      <td>30.0000</td>\n",
              "      <td>C</td>\n",
              "      <td>First</td>\n",
              "      <td>man</td>\n",
              "      <td>True</td>\n",
              "      <td>1</td>\n",
              "    </tr>\n",
              "    <tr>\n",
              "      <th>890</th>\n",
              "      <td>male</td>\n",
              "      <td>32.0</td>\n",
              "      <td>0</td>\n",
              "      <td>0</td>\n",
              "      <td>7.7500</td>\n",
              "      <td>Q</td>\n",
              "      <td>Third</td>\n",
              "      <td>man</td>\n",
              "      <td>True</td>\n",
              "      <td>0</td>\n",
              "    </tr>\n",
              "  </tbody>\n",
              "</table>\n",
              "<p>891 rows × 10 columns</p>\n",
              "</div>"
            ],
            "text/plain": [
              "        sex   age  sibsp  parch     fare embarked   class    who  alone  \\\n",
              "0      male  22.0      1      0   7.2500        S   Third    man  False   \n",
              "1    female  38.0      1      0  71.2833        C   First  woman  False   \n",
              "2    female  26.0      0      0   7.9250        S   Third  woman   True   \n",
              "3    female  35.0      1      0  53.1000        S   First  woman  False   \n",
              "4      male  35.0      0      0   8.0500        S   Third    man   True   \n",
              "..      ...   ...    ...    ...      ...      ...     ...    ...    ...   \n",
              "886    male  27.0      0      0  13.0000        S  Second    man   True   \n",
              "887  female  19.0      0      0  30.0000        S   First  woman   True   \n",
              "888  female   NaN      1      2  23.4500        S   Third  woman  False   \n",
              "889    male  26.0      0      0  30.0000        C   First    man   True   \n",
              "890    male  32.0      0      0   7.7500        Q   Third    man   True   \n",
              "\n",
              "     survived  \n",
              "0           0  \n",
              "1           1  \n",
              "2           1  \n",
              "3           1  \n",
              "4           0  \n",
              "..        ...  \n",
              "886         0  \n",
              "887         1  \n",
              "888         0  \n",
              "889         1  \n",
              "890         0  \n",
              "\n",
              "[891 rows x 10 columns]"
            ]
          },
          "execution_count": 89,
          "metadata": {},
          "output_type": "execute_result"
        }
      ],
      "source": [
        "data"
      ]
    },
    {
      "cell_type": "code",
      "execution_count": null,
      "id": "e21d70fe",
      "metadata": {
        "id": "e21d70fe"
      },
      "outputs": [],
      "source": [
        "age = data[\"age\"].dropna()"
      ]
    },
    {
      "cell_type": "code",
      "execution_count": null,
      "id": "1abae520",
      "metadata": {
        "id": "1abae520"
      },
      "outputs": [],
      "source": [
        "age= np.array(age)"
      ]
    },
    {
      "cell_type": "code",
      "execution_count": null,
      "id": "eb23e3a0",
      "metadata": {
        "id": "eb23e3a0",
        "outputId": "75e180f4-5344-42f6-af8c-acbb504fd796"
      },
      "outputs": [
        {
          "data": {
            "text/plain": [
              "array([22.  , 38.  , 26.  , 35.  , 35.  , 54.  ,  2.  , 27.  , 14.  ,\n",
              "        4.  , 58.  , 20.  , 39.  , 14.  , 55.  ,  2.  , 31.  , 35.  ,\n",
              "       34.  , 15.  , 28.  ,  8.  , 38.  , 19.  , 40.  , 66.  , 28.  ,\n",
              "       42.  , 21.  , 18.  , 14.  , 40.  , 27.  ,  3.  , 19.  , 18.  ,\n",
              "        7.  , 21.  , 49.  , 29.  , 65.  , 21.  , 28.5 ,  5.  , 11.  ,\n",
              "       22.  , 38.  , 45.  ,  4.  , 29.  , 19.  , 17.  , 26.  , 32.  ,\n",
              "       16.  , 21.  , 26.  , 32.  , 25.  ,  0.83, 30.  , 22.  , 29.  ,\n",
              "       28.  , 17.  , 33.  , 16.  , 23.  , 24.  , 29.  , 20.  , 46.  ,\n",
              "       26.  , 59.  , 71.  , 23.  , 34.  , 34.  , 28.  , 21.  , 33.  ,\n",
              "       37.  , 28.  , 21.  , 38.  , 47.  , 14.5 , 22.  , 20.  , 17.  ,\n",
              "       21.  , 70.5 , 29.  , 24.  ,  2.  , 21.  , 32.5 , 32.5 , 54.  ,\n",
              "       12.  , 24.  , 45.  , 33.  , 20.  , 47.  , 29.  , 25.  , 23.  ,\n",
              "       19.  , 37.  , 16.  , 24.  , 22.  , 24.  , 19.  , 18.  , 19.  ,\n",
              "       27.  ,  9.  , 36.5 , 42.  , 51.  , 22.  , 55.5 , 40.5 , 51.  ,\n",
              "       16.  , 30.  , 44.  , 40.  , 26.  , 17.  ,  1.  ,  9.  , 45.  ,\n",
              "       28.  , 61.  ,  4.  ,  1.  , 21.  , 56.  , 18.  , 50.  , 30.  ,\n",
              "       36.  ,  9.  ,  1.  ,  4.  , 45.  , 40.  , 36.  , 32.  , 19.  ,\n",
              "       19.  ,  3.  , 44.  , 58.  , 42.  , 24.  , 28.  , 34.  , 45.5 ,\n",
              "       18.  ,  2.  , 32.  , 26.  , 16.  , 40.  , 24.  , 35.  , 22.  ,\n",
              "       30.  , 31.  , 27.  , 42.  , 32.  , 30.  , 16.  , 27.  , 51.  ,\n",
              "       38.  , 22.  , 19.  , 20.5 , 18.  , 35.  , 29.  , 59.  ,  5.  ,\n",
              "       24.  , 44.  ,  8.  , 19.  , 33.  , 29.  , 22.  , 30.  , 44.  ,\n",
              "       25.  , 24.  , 37.  , 54.  , 29.  , 62.  , 30.  , 41.  , 29.  ,\n",
              "       30.  , 35.  , 50.  ,  3.  , 52.  , 40.  , 36.  , 16.  , 25.  ,\n",
              "       58.  , 35.  , 25.  , 41.  , 37.  , 63.  , 45.  ,  7.  , 35.  ,\n",
              "       65.  , 28.  , 16.  , 19.  , 33.  , 30.  , 22.  , 42.  , 22.  ,\n",
              "       26.  , 19.  , 36.  , 24.  , 24.  , 23.5 ,  2.  , 50.  , 19.  ,\n",
              "        0.92, 17.  , 30.  , 30.  , 24.  , 18.  , 26.  , 28.  , 43.  ,\n",
              "       26.  , 24.  , 54.  , 31.  , 40.  , 22.  , 27.  , 30.  , 22.  ,\n",
              "       36.  , 61.  , 36.  , 31.  , 16.  , 45.5 , 38.  , 16.  , 29.  ,\n",
              "       41.  , 45.  , 45.  ,  2.  , 24.  , 28.  , 25.  , 36.  , 24.  ,\n",
              "       40.  ,  3.  , 42.  , 23.  , 15.  , 25.  , 28.  , 22.  , 38.  ,\n",
              "       40.  , 29.  , 45.  , 35.  , 30.  , 60.  , 24.  , 25.  , 18.  ,\n",
              "       19.  , 22.  ,  3.  , 22.  , 27.  , 20.  , 19.  , 42.  ,  1.  ,\n",
              "       32.  , 35.  , 18.  ,  1.  , 36.  , 17.  , 36.  , 21.  , 28.  ,\n",
              "       23.  , 24.  , 22.  , 31.  , 46.  , 23.  , 28.  , 39.  , 26.  ,\n",
              "       21.  , 28.  , 20.  , 34.  , 51.  ,  3.  , 21.  , 33.  , 44.  ,\n",
              "       34.  , 18.  , 30.  , 10.  , 21.  , 29.  , 28.  , 18.  , 28.  ,\n",
              "       19.  , 32.  , 28.  , 42.  , 17.  , 50.  , 14.  , 21.  , 24.  ,\n",
              "       64.  , 31.  , 45.  , 20.  , 25.  , 28.  ,  4.  , 13.  , 34.  ,\n",
              "        5.  , 52.  , 36.  , 30.  , 49.  , 29.  , 65.  , 50.  , 48.  ,\n",
              "       34.  , 47.  , 48.  , 38.  , 56.  ,  0.75, 38.  , 33.  , 23.  ,\n",
              "       22.  , 34.  , 29.  , 22.  ,  2.  ,  9.  , 50.  , 63.  , 25.  ,\n",
              "       35.  , 58.  , 30.  ,  9.  , 21.  , 55.  , 71.  , 21.  , 54.  ,\n",
              "       25.  , 24.  , 17.  , 21.  , 37.  , 16.  , 18.  , 33.  , 28.  ,\n",
              "       26.  , 29.  , 36.  , 54.  , 24.  , 47.  , 34.  , 36.  , 32.  ,\n",
              "       30.  , 22.  , 44.  , 40.5 , 50.  , 39.  , 23.  ,  2.  , 17.  ,\n",
              "       30.  ,  7.  , 45.  , 30.  , 22.  , 36.  ,  9.  , 11.  , 32.  ,\n",
              "       50.  , 64.  , 19.  , 33.  ,  8.  , 17.  , 27.  , 22.  , 22.  ,\n",
              "       62.  , 48.  , 39.  , 36.  , 40.  , 28.  , 24.  , 19.  , 29.  ,\n",
              "       32.  , 62.  , 53.  , 36.  , 16.  , 19.  , 34.  , 39.  , 32.  ,\n",
              "       25.  , 39.  , 54.  , 36.  , 18.  , 47.  , 60.  , 22.  , 35.  ,\n",
              "       52.  , 47.  , 37.  , 36.  , 49.  , 49.  , 24.  , 44.  , 35.  ,\n",
              "       36.  , 30.  , 27.  , 22.  , 40.  , 39.  , 35.  , 24.  , 34.  ,\n",
              "       26.  ,  4.  , 26.  , 27.  , 42.  , 20.  , 21.  , 21.  , 61.  ,\n",
              "       57.  , 21.  , 26.  , 80.  , 51.  , 32.  ,  9.  , 28.  , 32.  ,\n",
              "       31.  , 41.  , 20.  , 24.  ,  2.  ,  0.75, 48.  , 19.  , 56.  ,\n",
              "       23.  , 18.  , 21.  , 18.  , 24.  , 32.  , 23.  , 58.  , 50.  ,\n",
              "       40.  , 47.  , 36.  , 20.  , 32.  , 25.  , 43.  , 40.  , 31.  ,\n",
              "       70.  , 31.  , 18.  , 24.5 , 18.  , 43.  , 36.  , 27.  , 20.  ,\n",
              "       14.  , 60.  , 25.  , 14.  , 19.  , 18.  , 15.  , 31.  ,  4.  ,\n",
              "       25.  , 60.  , 52.  , 44.  , 49.  , 42.  , 18.  , 35.  , 18.  ,\n",
              "       25.  , 26.  , 39.  , 45.  , 42.  , 22.  , 24.  , 48.  , 29.  ,\n",
              "       52.  , 19.  , 38.  , 27.  , 33.  ,  6.  , 17.  , 34.  , 50.  ,\n",
              "       27.  , 20.  , 30.  , 25.  , 25.  , 29.  , 11.  , 23.  , 23.  ,\n",
              "       28.5 , 48.  , 35.  , 36.  , 21.  , 24.  , 31.  , 70.  , 16.  ,\n",
              "       30.  , 19.  , 31.  ,  4.  ,  6.  , 33.  , 23.  , 48.  ,  0.67,\n",
              "       28.  , 18.  , 34.  , 33.  , 41.  , 20.  , 36.  , 16.  , 51.  ,\n",
              "       30.5 , 32.  , 24.  , 48.  , 57.  , 54.  , 18.  ,  5.  , 43.  ,\n",
              "       13.  , 17.  , 29.  , 25.  , 25.  , 18.  ,  8.  ,  1.  , 46.  ,\n",
              "       16.  , 25.  , 39.  , 49.  , 31.  , 30.  , 30.  , 34.  , 31.  ,\n",
              "       11.  ,  0.42, 27.  , 31.  , 39.  , 18.  , 39.  , 33.  , 26.  ,\n",
              "       39.  , 35.  ,  6.  , 30.5 , 23.  , 31.  , 43.  , 10.  , 52.  ,\n",
              "       27.  , 38.  , 27.  ,  2.  ,  1.  , 62.  , 15.  ,  0.83, 23.  ,\n",
              "       18.  , 39.  , 21.  , 32.  , 20.  , 16.  , 30.  , 34.5 , 17.  ,\n",
              "       42.  , 35.  , 28.  ,  4.  , 74.  ,  9.  , 16.  , 44.  , 18.  ,\n",
              "       45.  , 51.  , 24.  , 41.  , 21.  , 48.  , 24.  , 42.  , 27.  ,\n",
              "       31.  ,  4.  , 26.  , 47.  , 33.  , 47.  , 28.  , 15.  , 20.  ,\n",
              "       19.  , 56.  , 25.  , 33.  , 22.  , 28.  , 25.  , 39.  , 27.  ,\n",
              "       19.  , 26.  , 32.  ])"
            ]
          },
          "execution_count": 101,
          "metadata": {},
          "output_type": "execute_result"
        }
      ],
      "source": [
        "age"
      ]
    },
    {
      "cell_type": "code",
      "execution_count": null,
      "id": "a391459d",
      "metadata": {
        "id": "a391459d",
        "outputId": "f7f7b9b4-0b80-4887-af60-5f2492d009c1"
      },
      "outputs": [
        {
          "data": {
            "image/png": "[encoded data removed]",
            "text/plain": [
              "<Figure size 640x480 with 1 Axes>"
            ]
          },
          "metadata": {},
          "output_type": "display_data"
        }
      ],
      "source": [
        "plt.boxplot(age)\n",
        "plt.show()"
      ]
    },
    {
      "cell_type": "code",
      "execution_count": null,
      "id": "76edb8d1",
      "metadata": {
        "id": "76edb8d1"
      },
      "outputs": [],
      "source": [
        "mini = age.min()\n",
        "maxi = age.max()\n",
        "median =np.percentile(age, 50)\n",
        "Q1 = np.percentile(age, 25)\n",
        "Q3 = np.percentile(age, 75)"
      ]
    },
    {
      "cell_type": "code",
      "execution_count": null,
      "id": "5e4784bf",
      "metadata": {
        "scrolled": true,
        "id": "5e4784bf",
        "outputId": "dff15392-e2ee-4154-d2c0-a4b09427d0ca"
      },
      "outputs": [
        {
          "name": "stdout",
          "output_type": "stream",
          "text": [
            "0.42 80.0\n",
            "28.0\n",
            "20.125 38.0\n"
          ]
        }
      ],
      "source": [
        "print(mini, maxi)\n",
        "print(median)\n",
        "print(Q1, Q3)\n"
      ]
    },
    {
      "cell_type": "code",
      "execution_count": null,
      "id": "6f533a25",
      "metadata": {
        "id": "6f533a25"
      },
      "outputs": [],
      "source": [
        "mean = age.mean()"
      ]
    },
    {
      "cell_type": "code",
      "execution_count": null,
      "id": "9edcef37",
      "metadata": {
        "scrolled": true,
        "id": "9edcef37",
        "outputId": "ed37fb48-5192-4920-88d5-beb570ef1865"
      },
      "outputs": [
        {
          "data": {
            "text/plain": [
              "29.69911764705882"
            ]
          },
          "execution_count": 106,
          "metadata": {},
          "output_type": "execute_result"
        }
      ],
      "source": [
        "mean"
      ]
    },
    {
      "cell_type": "code",
      "execution_count": null,
      "id": "201ae2ae",
      "metadata": {
        "id": "201ae2ae"
      },
      "outputs": [],
      "source": [
        "variance = age.var()"
      ]
    },
    {
      "cell_type": "code",
      "execution_count": null,
      "id": "7a98fdba",
      "metadata": {
        "scrolled": true,
        "id": "7a98fdba",
        "outputId": "99efec1a-7e2d-4c25-9977-dc278b076bd5"
      },
      "outputs": [
        {
          "data": {
            "text/plain": [
              "210.72357975366617"
            ]
          },
          "execution_count": 108,
          "metadata": {},
          "output_type": "execute_result"
        }
      ],
      "source": [
        "variance"
      ]
    },
    {
      "cell_type": "code",
      "execution_count": null,
      "id": "a6e449f7",
      "metadata": {
        "id": "a6e449f7"
      },
      "outputs": [],
      "source": [
        "std = age.std()"
      ]
    },
    {
      "cell_type": "code",
      "execution_count": null,
      "id": "34bf0e54",
      "metadata": {
        "scrolled": false,
        "id": "34bf0e54",
        "outputId": "90ac3ac9-14ca-4aba-95d7-3a57e0f05ba3"
      },
      "outputs": [
        {
          "data": {
            "text/plain": [
              "14.516321150817316"
            ]
          },
          "execution_count": 110,
          "metadata": {},
          "output_type": "execute_result"
        }
      ],
      "source": [
        "std"
      ]
    },
    {
      "cell_type": "code",
      "execution_count": null,
      "id": "3cbe2372",
      "metadata": {
        "id": "3cbe2372"
      },
      "outputs": [],
      "source": []
    }
  ],
  "metadata": {
    "kernelspec": {
      "display_name": "Python 3 (ipykernel)",
      "language": "python",
      "name": "python3"
    },
    "language_info": {
      "codemirror_mode": {
        "name": "ipython",
        "version": 3
      },
      "file_extension": ".py",
      "mimetype": "text/x-python",
      "name": "python",
      "nbconvert_exporter": "python",
      "pygments_lexer": "ipython3",
      "version": "3.11.4"
    },
    "colab": {
      "provenance": []
    }
  },
  "nbformat": 4,
  "nbformat_minor": 5
}
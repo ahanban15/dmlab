{
 "cells": [
  {
   "cell_type": "code",
   "execution_count": 1,
   "id": "9eaeca48-a2cb-4ca9-a742-b2bda67b4fd2",
   "metadata": {},
   "outputs": [
    {
     "name": "stdout",
     "output_type": "stream",
     "text": [
      "Mean of given data is : 21.46153846153846\n",
      "Median of given data  is : 20\n",
      "Mode of given data  is : 11\n"
     ]
    },
    {
     "data": {
      "image/png": "[encoded data removed]",
      "text/plain": [
       "<Figure size 500x500 with 1 Axes>"
      ]
     },
     "metadata": {},
     "output_type": "display_data"
    }
   ],
   "source": [
    "import matplotlib.pyplot as plt\n",
    "import numpy as np\n",
    "import statistics\n",
    "\n",
    "ahan_data = [11, 22, 20, 14, 29, 8, 35, 27, 13, 49, 10, 24, 17]\n",
    "\n",
    "mn = statistics.mean(ahan_data)\n",
    "mdn = statistics.median(ahan_data)\n",
    "md = statistics.mode(ahan_data)\n",
    "\n",
    "print(\"Mean of given data is :\", mn)\n",
    "print(\"Median of given data  is :\", mdn)\n",
    "print(\"Mode of given data  is :\", md)\n",
    "\n",
    "fig = plt.figure(figsize =(5, 5))\n",
    "\n",
    "plt.boxplot(ahan_data)\n",
    "\n",
    "plt.show()\n"
   ]
  },
  {
   "cell_type": "code",
   "execution_count": null,
   "id": "4c06ed1e-4080-4e34-bf67-f46b7634f638",
   "metadata": {},
   "outputs": [],
   "source": []
  }
 ],
 "metadata": {
  "kernelspec": {
   "display_name": "Python 3 (ipykernel)",
   "language": "python",
   "name": "python3"
  },
  "language_info": {
   "codemirror_mode": {
    "name": "ipython",
    "version": 3
   },
   "file_extension": ".py",
   "mimetype": "text/x-python",
   "name": "python",
   "nbconvert_exporter": "python",
   "pygments_lexer": "ipython3",
   "version": "3.11.4"
  }
 },
 "nbformat": 4,
 "nbformat_minor": 5
}

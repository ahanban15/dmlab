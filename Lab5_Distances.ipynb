{
 "cells": [
  {
   "cell_type": "code",
   "execution_count": 15,
   "id": "9ba03ba5-a950-4227-94ce-7cd8a83f1b1e",
   "metadata": {},
   "outputs": [
    {
     "name": "stdout",
     "output_type": "stream",
     "text": [
      "Random Array 1:\n",
      "[0.37454012 0.95071431 0.73199394 0.59865848 0.15601864 0.15599452\n",
      " 0.05808361 0.86617615 0.60111501 0.70807258 0.02058449 0.96990985\n",
      " 0.83244264 0.21233911 0.18182497]\n",
      "\n",
      "Random Array 2:\n",
      "[0.18340451 0.30424224 0.52475643 0.43194502 0.29122914 0.61185289\n",
      " 0.13949386 0.29214465 0.36636184 0.45606998 0.78517596 0.19967378\n",
      " 0.51423444 0.59241457 0.04645041]\n",
      "\n",
      "Euclidean Distance:  1.627251178071804\n"
     ]
    }
   ],
   "source": [
    "# EUCLIDEAN DISTANCE\n",
    "\n",
    "import numpy as np\n",
    "\n",
    "np.random.seed(42)\n",
    "\n",
    "array1 = np.random.rand(15)  \n",
    "array2 = np.random.rand(15)  \n",
    "\n",
    "print(\"Random Array 1:\")\n",
    "print(array1)\n",
    "\n",
    "print(\"\\nRandom Array 2:\")\n",
    "print(array2)\n",
    "\n",
    "diff = array1 - array2\n",
    "\n",
    "euclid_dist = np.sqrt(np.dot(diff.T, diff))\n",
    "\n",
    "print(\"\\nEuclidean Distance: \", euclid_dist)"
   ]
  },
  {
   "cell_type": "code",
   "execution_count": 16,
   "id": "0a58ff5b-9670-4987-819b-943a5c969379",
   "metadata": {},
   "outputs": [
    {
     "name": "stdout",
     "output_type": "stream",
     "text": [
      "Random Array 1:\n",
      "[0.37454012 0.95071431 0.73199394 0.59865848 0.15601864 0.15599452\n",
      " 0.05808361 0.86617615 0.60111501 0.70807258 0.02058449 0.96990985\n",
      " 0.83244264 0.21233911 0.18182497]\n",
      "\n",
      "Random Array 2:\n",
      "[0.18340451 0.30424224 0.52475643 0.43194502 0.29122914 0.61185289\n",
      " 0.13949386 0.29214465 0.36636184 0.45606998 0.78517596 0.19967378\n",
      " 0.51423444 0.59241457 0.04645041]\n",
      "\n",
      "Manhattan Distance:  5.313310782230788\n"
     ]
    }
   ],
   "source": [
    "# MANHATTAN DISTANCE\n",
    "\n",
    "import numpy as np\n",
    "\n",
    "np.random.seed(42)\n",
    "\n",
    "array1 = np.random.rand(15)  \n",
    "array2 = np.random.rand(15)  \n",
    "\n",
    "print(\"Random Array 1:\")\n",
    "print(array1)\n",
    "\n",
    "print(\"\\nRandom Array 2:\")\n",
    "print(array2)\n",
    "\n",
    "diff = array1 - array2\n",
    "abs_diff = np.abs(diff)\n",
    "\n",
    "manhattan_dist = np.sum(abs_diff)\n",
    "print(\"\\nManhattan Distance: \", manhattan_dist)"
   ]
  },
  {
   "cell_type": "code",
   "execution_count": 39,
   "id": "a4c03239-3df5-4982-93ab-cb55cefe37a3",
   "metadata": {},
   "outputs": [
    {
     "name": "stdout",
     "output_type": "stream",
     "text": [
      "Random Array 1:\n",
      "[0.37454012 0.95071431 0.73199394 0.59865848 0.15601864 0.15599452\n",
      " 0.05808361 0.86617615 0.60111501 0.70807258 0.02058449 0.96990985\n",
      " 0.83244264 0.21233911 0.18182497]\n",
      "\n",
      "Random Array 2:\n",
      "[0.18340451 0.30424224 0.52475643 0.43194502 0.29122914 0.61185289\n",
      " 0.13949386 0.29214465 0.36636184 0.45606998 0.78517596 0.19967378\n",
      " 0.51423444 0.59241457 0.04645041]\n",
      "\n",
      "Minkowski Distance for p = 3 : 1.16962\n"
     ]
    }
   ],
   "source": [
    "# MINKOWSKI DISTANCE\n",
    "from math import *\n",
    "import numpy as np\n",
    "from decimal import Decimal\n",
    "\n",
    "def nth_root(value, n_root):\n",
    "    root_value = 1 / float(n_root)\n",
    "    return round(Decimal(value) ** Decimal(root_value), 5)\n",
    "\n",
    "def minkowski_distance(x, y, p_value):\n",
    "    return nth_root(sum(pow(abs(a - b), p_value) for a, b in zip(x, y)), p_value)\n",
    "\n",
    "\n",
    "p = np.random.randint(1, 10)\n",
    "\n",
    "np.random.seed(42)\n",
    "\n",
    "array1 = np.random.rand(15)\n",
    "array2 = np.random.rand(15)\n",
    "\n",
    "print(\"Random Array 1:\")\n",
    "print(array1)\n",
    "\n",
    "print(\"\\nRandom Array 2:\")\n",
    "print(array2)\n",
    "\n",
    "\n",
    "print(\"\\nMinkowski Distance for p =\", p, \":\", minkowski_distance(array1, array2, p))\n"
   ]
  },
  {
   "cell_type": "code",
   "execution_count": 17,
   "id": "24d4ac2c-f0b2-4018-88d2-93eb405b7614",
   "metadata": {},
   "outputs": [
    {
     "name": "stdout",
     "output_type": "stream",
     "text": [
      "Random Array 1:\n",
      "[0.37454012 0.95071431 0.73199394 0.59865848 0.15601864 0.15599452\n",
      " 0.05808361 0.86617615 0.60111501 0.70807258 0.02058449 0.96990985\n",
      " 0.83244264 0.21233911 0.18182497]\n",
      "\n",
      "Random Array 2:\n",
      "[0.18340451 0.30424224 0.52475643 0.43194502 0.29122914 0.61185289\n",
      " 0.13949386 0.29214465 0.36636184 0.45606998 0.78517596 0.19967378\n",
      " 0.51423444 0.59241457 0.04645041]\n",
      "\n",
      "Cosine Similarity:  0.7085389999657814\n"
     ]
    }
   ],
   "source": [
    "# COSINE SIMILARITY \n",
    "import numpy as np\n",
    "from numpy.linalg import norm\n",
    "\n",
    "np.random.seed(42)\n",
    "\n",
    "array1 = np.random.rand(15)  \n",
    "array2 = np.random.rand(15)  \n",
    "\n",
    "print(\"Random Array 1:\")\n",
    "print(array1)\n",
    "\n",
    "print(\"\\nRandom Array 2:\")\n",
    "print(array2)\n",
    "\n",
    "cosine = np.dot(array1,array2)/(norm(array1)*norm(array2))\n",
    "print(\"\\nCosine Similarity: \", cosine)\n"
   ]
  }
 ],
 "metadata": {
  "kernelspec": {
   "display_name": "Python 3 (ipykernel)",
   "language": "python",
   "name": "python3"
  },
  "language_info": {
   "codemirror_mode": {
    "name": "ipython",
    "version": 3
   },
   "file_extension": ".py",
   "mimetype": "text/x-python",
   "name": "python",
   "nbconvert_exporter": "python",
   "pygments_lexer": "ipython3",
   "version": "3.8.10"
  }
 },
 "nbformat": 4,
 "nbformat_minor": 5
}

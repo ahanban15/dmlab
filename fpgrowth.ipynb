{
 "cells": [
  {
   "cell_type": "code",
   "execution_count": 6,
   "id": "b2770168-5b2a-4b69-9ea3-5d604ec8441d",
   "metadata": {},
   "outputs": [
    {
     "name": "stdout",
     "output_type": "stream",
     "text": [
      "    support         itemsets\n",
      "0  0.238368  (mineral water)\n",
      "1  0.132116      (green tea)\n",
      "2  0.179709           (eggs)\n",
      "3  0.129583           (milk)\n",
      "4  0.170911   (french fries)\n",
      "5  0.174110      (spaghetti)\n",
      "6  0.163845      (chocolate)\n"
     ]
    }
   ],
   "source": [
    "import pandas as pd\n",
    "from mlxtend.frequent_patterns import fpgrowth\n",
    "from mlxtend.preprocessing import TransactionEncoder\n",
    "\n",
    "# Read the dataset\n",
    "with open('data.txt', 'r') as file:\n",
    "    transactions = [line.strip().split(',') for line in file]\n",
    "\n",
    "# Initialize and fit the transaction encoder\n",
    "te = TransactionEncoder()\n",
    "te_ary = te.fit(transactions).transform(transactions)\n",
    "df_encoded = pd.DataFrame(te_ary, columns=te.columns_)\n",
    "\n",
    "# Apply FP-Growth algorithm\n",
    "frequent_itemsets = fpgrowth(df_encoded, min_support=0.1, use_colnames=True)\n",
    "\n",
    "# Print the frequent itemsets\n",
    "print(frequent_itemsets)"
   ]
  },
  {
   "cell_type": "code",
   "execution_count": null,
   "id": "1ccfc762-fa3c-41e2-958c-e072a795c393",
   "metadata": {},
   "outputs": [],
   "source": []
  }
 ],
 "metadata": {
  "kernelspec": {
   "display_name": "Python 3 (ipykernel)",
   "language": "python",
   "name": "python3"
  },
  "language_info": {
   "codemirror_mode": {
    "name": "ipython",
    "version": 3
   },
   "file_extension": ".py",
   "mimetype": "text/x-python",
   "name": "python",
   "nbconvert_exporter": "python",
   "pygments_lexer": "ipython3",
   "version": "3.12.3"
  }
 },
 "nbformat": 4,
 "nbformat_minor": 5
}

{
  "cells": [
    {
      "cell_type": "code",
      "execution_count": null,
      "id": "c2ef3b69-bb56-4868-b25f-a9d8da65eb90",
      "metadata": {
        "id": "c2ef3b69-bb56-4868-b25f-a9d8da65eb90",
        "outputId": "b1338145-ce78-4928-8dca-13629a72579e"
      },
      "outputs": [
        {
          "name": "stdout",
          "output_type": "stream",
          "text": [
            "Mean Age of Titanic dataset is: 29.69911764705882\n",
            "Median Age of Titanic dataset is: 28.0\n",
            "Mode Age of Titanic dataset is: 24.0\n"
          ]
        },
        {
          "data": {
            "image/png": "[encoded data removed]",
            "text/plain": [
              "<Figure size 500x500 with 1 Axes>"
            ]
          },
          "metadata": {},
          "output_type": "display_data"
        }
      ],
      "source": [
        "import pandas as pd\n",
        "import matplotlib.pyplot as plt\n",
        "\n",
        "file_path = 'titanic.csv'\n",
        "titanic_data = pd.read_csv(file_path)\n",
        "\n",
        "mean = titanic_data['Age'].mean()\n",
        "median = titanic_data['Age'].median()\n",
        "mode = titanic_data['Age'].mode().values[0]\n",
        "\n",
        "print(f\"Mean Age of Titanic dataset is: {mean}\")\n",
        "print(f\"Median Age of Titanic dataset is: {median}\")\n",
        "print(f\"Mode Age of Titanic dataset is: {mode}\")\n",
        "\n",
        "plt.figure(figsize=(5, 5))\n",
        "plt.boxplot(titanic_data['Age'].dropna(), vert=False)\n",
        "plt.title('Boxplot of Age in Titanic Dataset')\n",
        "plt.xlabel('Age')\n",
        "plt.show()"
      ]
    },
    {
      "cell_type": "code",
      "execution_count": null,
      "id": "60c87d24-ab9c-4ffa-88ea-57ca52023751",
      "metadata": {
        "id": "60c87d24-ab9c-4ffa-88ea-57ca52023751",
        "outputId": "dd8d6cad-3853-493a-d192-1190059a35b6"
      },
      "outputs": [
        {
          "name": "stdout",
          "output_type": "stream",
          "text": [
            "Collecting pandas\n",
            "  Downloading pandas-2.1.4-cp311-cp311-win_amd64.whl.metadata (18 kB)\n",
            "Requirement already satisfied: numpy<2,>=1.23.2 in c:\\users\\ahan\\appdata\\roaming\\python\\python311\\site-packages (from pandas) (1.24.3)\n",
            "Requirement already satisfied: python-dateutil>=2.8.2 in c:\\users\\ahan\\appdata\\local\\programs\\python\\python311\\lib\\site-packages (from pandas) (2.8.2)\n",
            "Requirement already satisfied: pytz>=2020.1 in c:\\users\\ahan\\appdata\\local\\programs\\python\\python311\\lib\\site-packages (from pandas) (2023.3.post1)\n",
            "Requirement already satisfied: tzdata>=2022.1 in c:\\users\\ahan\\appdata\\local\\programs\\python\\python311\\lib\\site-packages (from pandas) (2023.4)\n",
            "Requirement already satisfied: six>=1.5 in c:\\users\\ahan\\appdata\\roaming\\python\\python311\\site-packages (from python-dateutil>=2.8.2->pandas) (1.16.0)\n",
            "Downloading pandas-2.1.4-cp311-cp311-win_amd64.whl (10.6 MB)\n",
            "   ---------------------------------------- 0.0/10.6 MB ? eta -:--:--\n",
            "   ---------------------------------------- 0.0/10.6 MB ? eta -:--:--\n",
            "   ---------------------------------------- 0.0/10.6 MB ? eta -:--:--\n",
            "   ---------------------------------------- 0.1/10.6 MB 1.5 MB/s eta 0:00:07\n",
            "   ---------------------------------------- 0.1/10.6 MB 1.1 MB/s eta 0:00:11\n",
            "    --------------------------------------- 0.2/10.6 MB 1.1 MB/s eta 0:00:10\n",
            "    --------------------------------------- 0.3/10.6 MB 1.3 MB/s eta 0:00:08\n",
            "    --------------------------------------- 0.3/10.6 MB 1.3 MB/s eta 0:00:08\n",
            "   - -------------------------------------- 0.3/10.6 MB 983.9 kB/s eta 0:00:11\n",
            "   - -------------------------------------- 0.3/10.6 MB 983.9 kB/s eta 0:00:11\n",
            "   - -------------------------------------- 0.3/10.6 MB 983.9 kB/s eta 0:00:11\n",
            "   - -------------------------------------- 0.3/10.6 MB 813.9 kB/s eta 0:00:13\n",
            "   - -------------------------------------- 0.4/10.6 MB 853.3 kB/s eta 0:00:12\n",
            "   - -------------------------------------- 0.5/10.6 MB 954.4 kB/s eta 0:00:11\n",
            "   -- ------------------------------------- 0.6/10.6 MB 1.1 MB/s eta 0:00:10\n",
            "   -- ------------------------------------- 0.7/10.6 MB 1.2 MB/s eta 0:00:09\n",
            "   --- ------------------------------------ 0.8/10.6 MB 1.2 MB/s eta 0:00:08\n",
            "   --- ------------------------------------ 0.9/10.6 MB 1.3 MB/s eta 0:00:08\n",
            "   --- ------------------------------------ 1.0/10.6 MB 1.4 MB/s eta 0:00:08\n",
            "   ---- ----------------------------------- 1.1/10.6 MB 1.4 MB/s eta 0:00:07\n",
            "   ---- ----------------------------------- 1.2/10.6 MB 1.5 MB/s eta 0:00:07\n",
            "   ----- ---------------------------------- 1.4/10.6 MB 1.6 MB/s eta 0:00:06\n",
            "   ----- ---------------------------------- 1.4/10.6 MB 1.6 MB/s eta 0:00:06\n",
            "   ----- ---------------------------------- 1.5/10.6 MB 1.6 MB/s eta 0:00:06\n",
            "   ----- ---------------------------------- 1.6/10.6 MB 1.6 MB/s eta 0:00:06\n",
            "   ------ --------------------------------- 1.7/10.6 MB 1.6 MB/s eta 0:00:06\n",
            "   ------ --------------------------------- 1.8/10.6 MB 1.6 MB/s eta 0:00:06\n",
            "   ------- -------------------------------- 1.9/10.6 MB 1.7 MB/s eta 0:00:06\n",
            "   ------- -------------------------------- 2.0/10.6 MB 1.7 MB/s eta 0:00:06\n",
            "   ------- -------------------------------- 2.0/10.6 MB 1.6 MB/s eta 0:00:06\n",
            "   ------- -------------------------------- 2.1/10.6 MB 1.6 MB/s eta 0:00:06\n",
            "   -------- ------------------------------- 2.1/10.6 MB 1.6 MB/s eta 0:00:06\n",
            "   -------- ------------------------------- 2.2/10.6 MB 1.6 MB/s eta 0:00:06\n",
            "   -------- ------------------------------- 2.3/10.6 MB 1.6 MB/s eta 0:00:06\n",
            "   -------- ------------------------------- 2.4/10.6 MB 1.6 MB/s eta 0:00:06\n",
            "   --------- ------------------------------ 2.5/10.6 MB 1.6 MB/s eta 0:00:06\n",
            "   --------- ------------------------------ 2.6/10.6 MB 1.6 MB/s eta 0:00:05\n",
            "   --------- ------------------------------ 2.6/10.6 MB 1.6 MB/s eta 0:00:05\n",
            "   --------- ------------------------------ 2.6/10.6 MB 1.5 MB/s eta 0:00:06\n",
            "   ---------- ----------------------------- 2.7/10.6 MB 1.6 MB/s eta 0:00:06\n",
            "   ---------- ----------------------------- 2.7/10.6 MB 1.5 MB/s eta 0:00:06\n",
            "   ---------- ----------------------------- 2.8/10.6 MB 1.6 MB/s eta 0:00:05\n",
            "   ----------- ---------------------------- 3.0/10.6 MB 1.6 MB/s eta 0:00:05\n",
            "   ----------- ---------------------------- 3.1/10.6 MB 1.6 MB/s eta 0:00:05\n",
            "   ----------- ---------------------------- 3.2/10.6 MB 1.6 MB/s eta 0:00:05\n",
            "   ----------- ---------------------------- 3.2/10.6 MB 1.6 MB/s eta 0:00:05\n",
            "   ------------ --------------------------- 3.3/10.6 MB 1.6 MB/s eta 0:00:05\n",
            "   ------------- -------------------------- 3.5/10.6 MB 1.7 MB/s eta 0:00:05\n",
            "   ------------- -------------------------- 3.7/10.6 MB 1.7 MB/s eta 0:00:04\n",
            "   -------------- ------------------------- 3.9/10.6 MB 1.8 MB/s eta 0:00:04\n",
            "   ---------------- ----------------------- 4.2/10.6 MB 1.9 MB/s eta 0:00:04\n",
            "   ---------------- ----------------------- 4.5/10.6 MB 2.0 MB/s eta 0:00:04\n",
            "   ----------------- ---------------------- 4.7/10.6 MB 2.0 MB/s eta 0:00:03\n",
            "   ----------------- ---------------------- 4.8/10.6 MB 2.0 MB/s eta 0:00:03\n",
            "   ------------------ --------------------- 4.8/10.6 MB 2.0 MB/s eta 0:00:03\n",
            "   ------------------ --------------------- 4.9/10.6 MB 2.0 MB/s eta 0:00:03\n",
            "   ------------------- -------------------- 5.2/10.6 MB 2.1 MB/s eta 0:00:03\n",
            "   -------------------- ------------------- 5.4/10.6 MB 2.1 MB/s eta 0:00:03\n",
            "   --------------------- ------------------ 5.7/10.6 MB 2.2 MB/s eta 0:00:03\n",
            "   ---------------------- ----------------- 6.0/10.6 MB 2.2 MB/s eta 0:00:03\n",
            "   ----------------------- ---------------- 6.2/10.6 MB 2.3 MB/s eta 0:00:02\n",
            "   ------------------------ --------------- 6.5/10.6 MB 2.3 MB/s eta 0:00:02\n",
            "   ------------------------- -------------- 6.7/10.6 MB 2.4 MB/s eta 0:00:02\n",
            "   ------------------------- -------------- 6.9/10.6 MB 2.4 MB/s eta 0:00:02\n",
            "   -------------------------- ------------- 7.1/10.6 MB 2.5 MB/s eta 0:00:02\n",
            "   --------------------------- ------------ 7.4/10.6 MB 2.5 MB/s eta 0:00:02\n",
            "   ---------------------------- ----------- 7.6/10.6 MB 2.5 MB/s eta 0:00:02\n",
            "   ----------------------------- ---------- 7.7/10.6 MB 2.5 MB/s eta 0:00:02\n",
            "   ----------------------------- ---------- 7.9/10.6 MB 2.6 MB/s eta 0:00:02\n",
            "   ------------------------------ --------- 8.0/10.6 MB 2.6 MB/s eta 0:00:02\n",
            "   ------------------------------ --------- 8.2/10.6 MB 2.6 MB/s eta 0:00:01\n",
            "   ------------------------------- -------- 8.4/10.6 MB 2.6 MB/s eta 0:00:01\n",
            "   -------------------------------- ------- 8.5/10.6 MB 2.6 MB/s eta 0:00:01\n",
            "   -------------------------------- ------- 8.7/10.6 MB 2.6 MB/s eta 0:00:01\n",
            "   --------------------------------- ------ 8.9/10.6 MB 2.6 MB/s eta 0:00:01\n",
            "   --------------------------------- ------ 9.0/10.6 MB 2.6 MB/s eta 0:00:01\n",
            "   ---------------------------------- ----- 9.1/10.6 MB 2.7 MB/s eta 0:00:01\n",
            "   ----------------------------------- ---- 9.3/10.6 MB 2.7 MB/s eta 0:00:01\n",
            "   ----------------------------------- ---- 9.4/10.6 MB 2.7 MB/s eta 0:00:01\n",
            "   ----------------------------------- ---- 9.5/10.6 MB 2.6 MB/s eta 0:00:01\n",
            "   ----------------------------------- ---- 9.5/10.6 MB 2.6 MB/s eta 0:00:01\n",
            "   ------------------------------------ --- 9.7/10.6 MB 2.6 MB/s eta 0:00:01\n",
            "   ------------------------------------- -- 9.9/10.6 MB 2.6 MB/s eta 0:00:01\n",
            "   ------------------------------------- -- 9.9/10.6 MB 2.6 MB/s eta 0:00:01\n",
            "   ------------------------------------- -- 10.0/10.6 MB 2.6 MB/s eta 0:00:01\n",
            "   -------------------------------------- - 10.1/10.6 MB 2.6 MB/s eta 0:00:01\n",
            "   -------------------------------------- - 10.2/10.6 MB 2.6 MB/s eta 0:00:01\n",
            "   -------------------------------------- - 10.3/10.6 MB 2.6 MB/s eta 0:00:01\n",
            "   ---------------------------------------  10.4/10.6 MB 2.6 MB/s eta 0:00:01\n",
            "   ---------------------------------------  10.5/10.6 MB 2.7 MB/s eta 0:00:01\n",
            "   ---------------------------------------  10.5/10.6 MB 2.8 MB/s eta 0:00:01\n",
            "   ---------------------------------------  10.6/10.6 MB 2.8 MB/s eta 0:00:01\n",
            "   ---------------------------------------- 10.6/10.6 MB 2.8 MB/s eta 0:00:00\n",
            "Installing collected packages: pandas\n",
            "Successfully installed pandas-2.1.4\n",
            "Note: you may need to restart the kernel to use updated packages.\n"
          ]
        },
        {
          "name": "stderr",
          "output_type": "stream",
          "text": [
            "DEPRECATION: Loading egg at c:\\users\\ahan\\appdata\\local\\programs\\python\\python311\\lib\\site-packages\\vboxapi-1.0-py3.11.egg is deprecated. pip 24.3 will enforce this behaviour change. A possible replacement is to use pip for package installation.. Discussion can be found at https://github.com/pypa/pip/issues/12330\n"
          ]
        }
      ],
      "source": [
        "pip install pandas"
      ]
    },
    {
      "cell_type": "code",
      "execution_count": null,
      "id": "3042bb52-2261-4f02-9f38-85500c00322f",
      "metadata": {
        "id": "3042bb52-2261-4f02-9f38-85500c00322f"
      },
      "outputs": [],
      "source": []
    },
    {
      "cell_type": "code",
      "execution_count": null,
      "id": "917e3d50-3a7f-4111-83cc-cd5d58123374",
      "metadata": {
        "id": "917e3d50-3a7f-4111-83cc-cd5d58123374"
      },
      "outputs": [],
      "source": []
    }
  ],
  "metadata": {
    "colab": {
      "provenance": []
    },
    "kernelspec": {
      "display_name": "Python 3 (ipykernel)",
      "language": "python",
      "name": "python3"
    },
    "language_info": {
      "codemirror_mode": {
        "name": "ipython",
        "version": 3
      },
      "file_extension": ".py",
      "mimetype": "text/x-python",
      "name": "python",
      "nbconvert_exporter": "python",
      "pygments_lexer": "ipython3",
      "version": "3.11.4"
    }
  },
  "nbformat": 4,
  "nbformat_minor": 5
}

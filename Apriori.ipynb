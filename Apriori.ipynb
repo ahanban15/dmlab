{
 "cells": [
  {
   "cell_type": "code",
   "execution_count": 5,
   "id": "e9473067-9131-4dad-b789-4ecd9d0869ec",
   "metadata": {},
   "outputs": [
    {
     "name": "stdout",
     "output_type": "stream",
     "text": [
      "           antecedents      consequents  antecedent support  \\\n",
      "0  (eggs, ground beef)  (mineral water)            0.019997   \n",
      "1  (ground beef, milk)  (mineral water)            0.021997   \n",
      "\n",
      "   consequent support   support  confidence      lift  leverage  conviction  \\\n",
      "0            0.238368  0.010132    0.506667  2.125563  0.005365    1.543848   \n",
      "1            0.238368  0.011065    0.503030  2.110308  0.005822    1.532552   \n",
      "\n",
      "   zhangs_metric  \n",
      "0       0.540342  \n",
      "1       0.537969  \n"
     ]
    }
   ],
   "source": [
    "import pandas as pd\n",
    "from mlxtend.preprocessing import TransactionEncoder\n",
    "from mlxtend.frequent_patterns import apriori, association_rules\n",
    "\n",
    "# Read the dataset\n",
    "with open('data.txt', 'r') as file:\n",
    "    transactions = [line.strip().split(',') for line in file]\n",
    "\n",
    "# One-hot encode the transactions\n",
    "te = TransactionEncoder()\n",
    "te_ary = te.fit(transactions).transform(transactions)\n",
    "encoded_df = pd.DataFrame(te_ary, columns=te.columns_)\n",
    "\n",
    "# Apply Apriori algorithm\n",
    "frequent_itemsets = apriori(encoded_df, min_support=0.01, use_colnames=True)\n",
    "\n",
    "# Generate association rules\n",
    "rules = association_rules(frequent_itemsets, metric=\"confidence\", min_threshold=0.5)\n",
    "\n",
    "print(rules)\n"
   ]
  },
  {
   "cell_type": "code",
   "execution_count": null,
   "id": "529eb1b8-4363-4bb3-b32c-38be7b504326",
   "metadata": {},
   "outputs": [],
   "source": []
  }
 ],
 "metadata": {
  "kernelspec": {
   "display_name": "Python 3 (ipykernel)",
   "language": "python",
   "name": "python3"
  },
  "language_info": {
   "codemirror_mode": {
    "name": "ipython",
    "version": 3
   },
   "file_extension": ".py",
   "mimetype": "text/x-python",
   "name": "python",
   "nbconvert_exporter": "python",
   "pygments_lexer": "ipython3",
   "version": "3.12.3"
  }
 },
 "nbformat": 4,
 "nbformat_minor": 5
}

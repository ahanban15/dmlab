{
  "cells": [
    {
      "cell_type": "code",
      "execution_count": null,
      "id": "f3aac5af-225c-4e4b-9881-c3fe1ba3acc9",
      "metadata": {
        "id": "f3aac5af-225c-4e4b-9881-c3fe1ba3acc9",
        "outputId": "8ae110c0-63f6-44d5-adb5-222165a76ef5"
      },
      "outputs": [
        {
          "name": "stdout",
          "output_type": "stream",
          "text": [
            "Time required for apriori :  0.006939411163330078\n",
            "   support   itemsets\n",
            "0     0.75        (A)\n",
            "1     0.75        (B)\n",
            "2     0.75        (C)\n",
            "3     0.50        (D)\n",
            "4     0.50     (B, A)\n",
            "5     0.75     (A, C)\n",
            "6     0.50     (B, C)\n",
            "7     0.50  (B, A, C)\n"
          ]
        }
      ],
      "source": [
        "from mlxtend.frequent_patterns import apriori\n",
        "import pandas as pd\n",
        "import time\n",
        "\n",
        "# Sample dataset (list of transactions)\n",
        "dataset = pd.DataFrame([['A', 'B', 'C'],\n",
        "           ['D', 'B'],\n",
        "           ['B', 'C', 'D', 'A'],\n",
        "           ['B', 'A', 'C'],\n",
        "                       []])\n",
        "\n",
        "start=time.time()\n",
        "# Apply Apriori algorithm to get frequent itemsets\n",
        "frequent_itemsets = apriori(df, min_support=0.5, use_colnames=True)\n",
        "end=time.time()\n",
        "print(\"Time required for apriori : \",end-start)\n",
        "\n",
        "# Display the result\n",
        "print(frequent_itemsets)"
      ]
    },
    {
      "cell_type": "code",
      "execution_count": null,
      "id": "6337fef9-3a7d-45ce-a6d7-56246feeb81b",
      "metadata": {
        "id": "6337fef9-3a7d-45ce-a6d7-56246feeb81b",
        "outputId": "dd9eaadc-95bd-4a80-c9a3-d4ce10d562de"
      },
      "outputs": [
        {
          "name": "stdout",
          "output_type": "stream",
          "text": [
            "Time required for apriori :  0.001711130142211914\n",
            "   support   itemsets\n",
            "0     0.75        (C)\n",
            "1     0.75        (B)\n",
            "2     0.75        (A)\n",
            "3     0.50        (D)\n",
            "4     0.50     (B, C)\n",
            "5     0.75     (A, C)\n",
            "6     0.50     (B, A)\n",
            "7     0.50  (B, A, C)\n"
          ]
        }
      ],
      "source": [
        "from mlxtend.frequent_patterns import fpgrowth\n",
        "from mlxtend.preprocessing import TransactionEncoder\n",
        "import pandas as pd\n",
        "import time\n",
        "\n",
        "# Sample dataset (list of transactions)\n",
        "dataset = pd.DataFrame([['A', 'B', 'C'],\n",
        "           ['A', 'C', 'B', 'D'],\n",
        "           ['A', 'C', 'B', 'C'],\n",
        "           ['A', 'D', 'B'],\n",
        "           ['B', 'A', 'C']])\n",
        "\n",
        "start2=time.time()\n",
        "# Apply Apriori algorithm to get frequent itemsets\n",
        "frequent_itemsets = fpgrowth(df, min_support=0.5, use_colnames=True)\n",
        "end2=time.time()\n",
        "print(\"Time required for fpgrowth : \",end2-start2)\n",
        "\n",
        "# Display the result\n",
        "print(frequent_itemsets)"
      ]
    },
    {
      "cell_type": "code",
      "execution_count": null,
      "id": "ae2f5bfc-57a0-43bc-9baa-797219d97892",
      "metadata": {
        "id": "ae2f5bfc-57a0-43bc-9baa-797219d97892"
      },
      "outputs": [],
      "source": []
    }
  ],
  "metadata": {
    "colab": {
      "provenance": []
    },
    "kernelspec": {
      "display_name": "Python 3 (ipykernel)",
      "language": "python",
      "name": "python3"
    },
    "language_info": {
      "codemirror_mode": {
        "name": "ipython",
        "version": 3
      },
      "file_extension": ".py",
      "mimetype": "text/x-python",
      "name": "python",
      "nbconvert_exporter": "python",
      "pygments_lexer": "ipython3",
      "version": "3.8.10"
    }
  },
  "nbformat": 4,
  "nbformat_minor": 5
}
